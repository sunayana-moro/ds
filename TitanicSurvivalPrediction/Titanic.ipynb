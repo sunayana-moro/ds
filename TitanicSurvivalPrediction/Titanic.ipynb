{
  "nbformat": 4,
  "nbformat_minor": 0,
  "metadata": {
    "colab": {
      "provenance": []
    },
    "kernelspec": {
      "name": "python3",
      "display_name": "Python 3"
    },
    "language_info": {
      "name": "python"
    }
  },
  "cells": [
    {
      "cell_type": "code",
      "execution_count": null,
      "metadata": {
        "id": "OjHcQD1SLVQK",
        "colab": {
          "base_uri": "https://localhost:8080/",
          "height": 356
        },
        "collapsed": true,
        "outputId": "9df977e8-2ac3-4e5e-ca63-9b51fbfe60a7"
      },
      "outputs": [
        {
          "output_type": "error",
          "ename": "MessageError",
          "evalue": "Error: credential propagation was unsuccessful",
          "traceback": [
            "\u001b[0;31m---------------------------------------------------------------------------\u001b[0m",
            "\u001b[0;31mMessageError\u001b[0m                              Traceback (most recent call last)",
            "\u001b[0;32m/tmp/ipython-input-3490955161.py\u001b[0m in \u001b[0;36m<cell line: 0>\u001b[0;34m()\u001b[0m\n\u001b[1;32m      4\u001b[0m \u001b[0;32mimport\u001b[0m \u001b[0mmatplotlib\u001b[0m\u001b[0;34m.\u001b[0m\u001b[0mpyplot\u001b[0m \u001b[0;32mas\u001b[0m \u001b[0mplt\u001b[0m\u001b[0;34m\u001b[0m\u001b[0;34m\u001b[0m\u001b[0m\n\u001b[1;32m      5\u001b[0m \u001b[0;32mfrom\u001b[0m \u001b[0mgoogle\u001b[0m\u001b[0;34m.\u001b[0m\u001b[0mcolab\u001b[0m \u001b[0;32mimport\u001b[0m \u001b[0mdrive\u001b[0m\u001b[0;34m\u001b[0m\u001b[0;34m\u001b[0m\u001b[0m\n\u001b[0;32m----> 6\u001b[0;31m \u001b[0mdrive\u001b[0m\u001b[0;34m.\u001b[0m\u001b[0mmount\u001b[0m\u001b[0;34m(\u001b[0m\u001b[0;34m'/content/drive'\u001b[0m\u001b[0;34m)\u001b[0m\u001b[0;34m\u001b[0m\u001b[0;34m\u001b[0m\u001b[0m\n\u001b[0m\u001b[1;32m      7\u001b[0m \u001b[0mtrain_path\u001b[0m \u001b[0;34m=\u001b[0m \u001b[0;34m'/content/drive/MyDrive/Titanic/train.csv'\u001b[0m\u001b[0;34m\u001b[0m\u001b[0;34m\u001b[0m\u001b[0m\n\u001b[1;32m      8\u001b[0m \u001b[0mtest_path\u001b[0m \u001b[0;34m=\u001b[0m \u001b[0;34m'/content/drive/MyDrive/Titanic/test.csv'\u001b[0m\u001b[0;34m\u001b[0m\u001b[0;34m\u001b[0m\u001b[0m\n",
            "\u001b[0;32m/usr/local/lib/python3.12/dist-packages/google/colab/drive.py\u001b[0m in \u001b[0;36mmount\u001b[0;34m(mountpoint, force_remount, timeout_ms, readonly)\u001b[0m\n\u001b[1;32m     95\u001b[0m \u001b[0;32mdef\u001b[0m \u001b[0mmount\u001b[0m\u001b[0;34m(\u001b[0m\u001b[0mmountpoint\u001b[0m\u001b[0;34m,\u001b[0m \u001b[0mforce_remount\u001b[0m\u001b[0;34m=\u001b[0m\u001b[0;32mFalse\u001b[0m\u001b[0;34m,\u001b[0m \u001b[0mtimeout_ms\u001b[0m\u001b[0;34m=\u001b[0m\u001b[0;36m120000\u001b[0m\u001b[0;34m,\u001b[0m \u001b[0mreadonly\u001b[0m\u001b[0;34m=\u001b[0m\u001b[0;32mFalse\u001b[0m\u001b[0;34m)\u001b[0m\u001b[0;34m:\u001b[0m\u001b[0;34m\u001b[0m\u001b[0;34m\u001b[0m\u001b[0m\n\u001b[1;32m     96\u001b[0m   \u001b[0;34m\"\"\"Mount your Google Drive at the specified mountpoint path.\"\"\"\u001b[0m\u001b[0;34m\u001b[0m\u001b[0;34m\u001b[0m\u001b[0m\n\u001b[0;32m---> 97\u001b[0;31m   return _mount(\n\u001b[0m\u001b[1;32m     98\u001b[0m       \u001b[0mmountpoint\u001b[0m\u001b[0;34m,\u001b[0m\u001b[0;34m\u001b[0m\u001b[0;34m\u001b[0m\u001b[0m\n\u001b[1;32m     99\u001b[0m       \u001b[0mforce_remount\u001b[0m\u001b[0;34m=\u001b[0m\u001b[0mforce_remount\u001b[0m\u001b[0;34m,\u001b[0m\u001b[0;34m\u001b[0m\u001b[0;34m\u001b[0m\u001b[0m\n",
            "\u001b[0;32m/usr/local/lib/python3.12/dist-packages/google/colab/drive.py\u001b[0m in \u001b[0;36m_mount\u001b[0;34m(mountpoint, force_remount, timeout_ms, ephemeral, readonly)\u001b[0m\n\u001b[1;32m    132\u001b[0m   )\n\u001b[1;32m    133\u001b[0m   \u001b[0;32mif\u001b[0m \u001b[0mephemeral\u001b[0m\u001b[0;34m:\u001b[0m\u001b[0;34m\u001b[0m\u001b[0;34m\u001b[0m\u001b[0m\n\u001b[0;32m--> 134\u001b[0;31m     _message.blocking_request(\n\u001b[0m\u001b[1;32m    135\u001b[0m         \u001b[0;34m'request_auth'\u001b[0m\u001b[0;34m,\u001b[0m\u001b[0;34m\u001b[0m\u001b[0;34m\u001b[0m\u001b[0m\n\u001b[1;32m    136\u001b[0m         \u001b[0mrequest\u001b[0m\u001b[0;34m=\u001b[0m\u001b[0;34m{\u001b[0m\u001b[0;34m'authType'\u001b[0m\u001b[0;34m:\u001b[0m \u001b[0;34m'dfs_ephemeral'\u001b[0m\u001b[0;34m}\u001b[0m\u001b[0;34m,\u001b[0m\u001b[0;34m\u001b[0m\u001b[0;34m\u001b[0m\u001b[0m\n",
            "\u001b[0;32m/usr/local/lib/python3.12/dist-packages/google/colab/_message.py\u001b[0m in \u001b[0;36mblocking_request\u001b[0;34m(request_type, request, timeout_sec, parent)\u001b[0m\n\u001b[1;32m    174\u001b[0m       \u001b[0mrequest_type\u001b[0m\u001b[0;34m,\u001b[0m \u001b[0mrequest\u001b[0m\u001b[0;34m,\u001b[0m \u001b[0mparent\u001b[0m\u001b[0;34m=\u001b[0m\u001b[0mparent\u001b[0m\u001b[0;34m,\u001b[0m \u001b[0mexpect_reply\u001b[0m\u001b[0;34m=\u001b[0m\u001b[0;32mTrue\u001b[0m\u001b[0;34m\u001b[0m\u001b[0;34m\u001b[0m\u001b[0m\n\u001b[1;32m    175\u001b[0m   )\n\u001b[0;32m--> 176\u001b[0;31m   \u001b[0;32mreturn\u001b[0m \u001b[0mread_reply_from_input\u001b[0m\u001b[0;34m(\u001b[0m\u001b[0mrequest_id\u001b[0m\u001b[0;34m,\u001b[0m \u001b[0mtimeout_sec\u001b[0m\u001b[0;34m)\u001b[0m\u001b[0;34m\u001b[0m\u001b[0;34m\u001b[0m\u001b[0m\n\u001b[0m",
            "\u001b[0;32m/usr/local/lib/python3.12/dist-packages/google/colab/_message.py\u001b[0m in \u001b[0;36mread_reply_from_input\u001b[0;34m(message_id, timeout_sec)\u001b[0m\n\u001b[1;32m    101\u001b[0m     ):\n\u001b[1;32m    102\u001b[0m       \u001b[0;32mif\u001b[0m \u001b[0;34m'error'\u001b[0m \u001b[0;32min\u001b[0m \u001b[0mreply\u001b[0m\u001b[0;34m:\u001b[0m\u001b[0;34m\u001b[0m\u001b[0;34m\u001b[0m\u001b[0m\n\u001b[0;32m--> 103\u001b[0;31m         \u001b[0;32mraise\u001b[0m \u001b[0mMessageError\u001b[0m\u001b[0;34m(\u001b[0m\u001b[0mreply\u001b[0m\u001b[0;34m[\u001b[0m\u001b[0;34m'error'\u001b[0m\u001b[0;34m]\u001b[0m\u001b[0;34m)\u001b[0m\u001b[0;34m\u001b[0m\u001b[0;34m\u001b[0m\u001b[0m\n\u001b[0m\u001b[1;32m    104\u001b[0m       \u001b[0;32mreturn\u001b[0m \u001b[0mreply\u001b[0m\u001b[0;34m.\u001b[0m\u001b[0mget\u001b[0m\u001b[0;34m(\u001b[0m\u001b[0;34m'data'\u001b[0m\u001b[0;34m,\u001b[0m \u001b[0;32mNone\u001b[0m\u001b[0;34m)\u001b[0m\u001b[0;34m\u001b[0m\u001b[0;34m\u001b[0m\u001b[0m\n\u001b[1;32m    105\u001b[0m \u001b[0;34m\u001b[0m\u001b[0m\n",
            "\u001b[0;31mMessageError\u001b[0m: Error: credential propagation was unsuccessful"
          ]
        }
      ],
      "source": [
        "import numpy as np\n",
        "import pandas as pd\n",
        "import seaborn as sns\n",
        "import matplotlib.pyplot as plt\n",
        "from google.colab import drive\n",
        "drive.mount('/content/drive')\n",
        "train_path = '/content/drive/MyDrive/Titanic/train.csv'\n",
        "test_path = '/content/drive/MyDrive/Titanic/test.csv'\n",
        "training = pd.read_csv(train_path)\n",
        "test = pd.read_csv(test_path)\n",
        "\n",
        "training['traintest'] = 1\n",
        "test['traintest'] = 0\n",
        "test['Survived'] = np.nan\n",
        "alldata = pd.concat([training, test])\n",
        "%matplotlib inline\n",
        "alldata.columns\n",
        "training.shape\n",
        "training.head(5)"
      ]
    },
    {
      "cell_type": "code",
      "source": [
        "test.shape\n",
        "\n"
      ],
      "metadata": {
        "collapsed": true,
        "id": "HSMjIv1HI3W1"
      },
      "execution_count": null,
      "outputs": []
    },
    {
      "cell_type": "code",
      "source": [
        "alldata.shape"
      ],
      "metadata": {
        "collapsed": true,
        "id": "8oJhOlP07IRf"
      },
      "execution_count": null,
      "outputs": []
    },
    {
      "cell_type": "code",
      "source": [
        "training.columns"
      ],
      "metadata": {
        "collapsed": true,
        "id": "sHf945VI5k7N"
      },
      "execution_count": null,
      "outputs": []
    },
    {
      "cell_type": "code",
      "source": [
        "test.columns"
      ],
      "metadata": {
        "collapsed": true,
        "id": "rTYLeaf15lEy"
      },
      "execution_count": null,
      "outputs": []
    },
    {
      "cell_type": "code",
      "source": [
        "training.describe()"
      ],
      "metadata": {
        "collapsed": true,
        "id": "eNWa0kYmJgOw"
      },
      "execution_count": null,
      "outputs": []
    },
    {
      "cell_type": "code",
      "source": [
        "training.describe().columns"
      ],
      "metadata": {
        "collapsed": true,
        "id": "j8mtGlfmN2z0"
      },
      "execution_count": null,
      "outputs": []
    },
    {
      "cell_type": "code",
      "source": [
        "df_num = training[['Age','SibSp','Parch','Fare']]\n",
        "df_cat = training[['Survived','Pclass','Sex','Ticket','Cabin','Embarked']]"
      ],
      "metadata": {
        "id": "RY8PpzcAOhub"
      },
      "execution_count": null,
      "outputs": []
    },
    {
      "cell_type": "code",
      "source": [
        "for i in df_num.columns:\n",
        "    plt.hist(df_num[i])\n",
        "    plt.title(i)\n",
        "    plt.show()"
      ],
      "metadata": {
        "collapsed": true,
        "id": "9sCdRy-eOowf"
      },
      "execution_count": null,
      "outputs": []
    },
    {
      "cell_type": "code",
      "source": [
        "alldata"
      ],
      "metadata": {
        "collapsed": true,
        "id": "KkPpUQHf3jcJ"
      },
      "execution_count": null,
      "outputs": []
    },
    {
      "cell_type": "code",
      "source": [
        "print(df_num.corr())\n",
        "sns.heatmap(df_num.corr())"
      ],
      "metadata": {
        "collapsed": true,
        "id": "wmRtNxBdO_fD"
      },
      "execution_count": null,
      "outputs": []
    },
    {
      "cell_type": "code",
      "source": [
        "pd.pivot_table(training, index = 'Survived', values = ['Age','SibSp','Parch','Fare'])\n"
      ],
      "metadata": {
        "collapsed": true,
        "id": "EY-HdAV_PYc5"
      },
      "execution_count": null,
      "outputs": []
    },
    {
      "cell_type": "code",
      "source": [
        "for i in df_cat.columns:\n",
        "    sns.barplot(x=df_cat[i].value_counts().index, y=df_cat[i].value_counts()).set_title(i)\n",
        "    plt.show()"
      ],
      "metadata": {
        "collapsed": true,
        "id": "3zuk_Jt8RxYL"
      },
      "execution_count": null,
      "outputs": []
    },
    {
      "cell_type": "code",
      "source": [
        "print(pd.pivot_table(training, index = 'Survived', columns = 'Pclass', values = 'Ticket' ,aggfunc ='count'))\n",
        "print()\n",
        "print(pd.pivot_table(training, index = 'Survived', columns = 'Sex', values = 'Ticket' ,aggfunc ='count'))\n",
        "print()\n",
        "print(pd.pivot_table(training, index = 'Survived', columns = 'Embarked', values = 'Ticket' ,aggfunc ='count'))\n"
      ],
      "metadata": {
        "collapsed": true,
        "id": "q89TpbpSXKmt"
      },
      "execution_count": null,
      "outputs": []
    },
    {
      "cell_type": "code",
      "source": [
        "training['cabin_multiple'] = training.Cabin.apply(lambda x: 0 if pd.isna(x) else len(x.split(' ')))\n",
        "training['cabin_multiple'].value_counts()\n"
      ],
      "metadata": {
        "collapsed": true,
        "id": "sE_h4A_aXqmf"
      },
      "execution_count": null,
      "outputs": []
    },
    {
      "cell_type": "code",
      "source": [
        "pd.pivot_table(training, index = 'Survived', columns = 'cabin_multiple', values = 'Ticket' ,aggfunc ='count')"
      ],
      "metadata": {
        "collapsed": true,
        "id": "bggsK2djregW"
      },
      "execution_count": null,
      "outputs": []
    },
    {
      "cell_type": "code",
      "source": [
        "training['cabin_adv'] = training.Cabin.apply(lambda x: str(x)[0])\n",
        "print(training.cabin_adv.value_counts())"
      ],
      "metadata": {
        "collapsed": true,
        "id": "l6E7kfOSrusZ"
      },
      "execution_count": null,
      "outputs": []
    },
    {
      "cell_type": "code",
      "source": [
        "training['numeric_ticket'] = training.Ticket.apply(lambda x: 1 if x.isnumeric() else 0)\n",
        "training['ticket_letters'] = training.Ticket.apply(lambda x: ''.join(x.split(' ')[:-1]).replace('.','').replace('/','').lower() if len(x.split(' ')[:-1]) >0 else 0)\n",
        "training['numeric_ticket'].value_counts()"
      ],
      "metadata": {
        "collapsed": true,
        "id": "rXoqIgNKr_5u"
      },
      "execution_count": null,
      "outputs": []
    },
    {
      "cell_type": "code",
      "source": [
        "pd.set_option(\"display.max_rows\", None)\n",
        "print(training)"
      ],
      "metadata": {
        "collapsed": true,
        "id": "5eV7_h5PspBy"
      },
      "execution_count": null,
      "outputs": []
    },
    {
      "cell_type": "code",
      "source": [
        "training['ticket_letters'].value_counts()"
      ],
      "metadata": {
        "collapsed": true,
        "id": "_Ehv7NtitFJM"
      },
      "execution_count": null,
      "outputs": []
    },
    {
      "cell_type": "code",
      "source": [
        "pd.pivot_table(training,index='Survived',columns='numeric_ticket', values = 'Ticket', aggfunc='count')"
      ],
      "metadata": {
        "collapsed": true,
        "id": "K1dopQ5itpdl"
      },
      "execution_count": null,
      "outputs": []
    },
    {
      "cell_type": "code",
      "source": [
        "pd.pivot_table(training,index='Survived',columns='ticket_letters', values = 'Ticket', aggfunc='count')"
      ],
      "metadata": {
        "collapsed": true,
        "id": "LWFyrMmnuLZ8"
      },
      "execution_count": null,
      "outputs": []
    },
    {
      "cell_type": "code",
      "source": [
        "training.Name.head(50)"
      ],
      "metadata": {
        "collapsed": true,
        "id": "EB7x01gcuULe"
      },
      "execution_count": null,
      "outputs": []
    },
    {
      "cell_type": "code",
      "source": [
        "training['name_title'] = training.Name.apply(lambda x: x.split(',')[1].split('.')[0].strip())\n",
        "training.name_title.head(50)"
      ],
      "metadata": {
        "collapsed": true,
        "id": "lTtCyC5XvoSZ"
      },
      "execution_count": null,
      "outputs": []
    },
    {
      "cell_type": "code",
      "source": [
        "training['name_title'].value_counts().index"
      ],
      "metadata": {
        "collapsed": true,
        "id": "FHCp0QPev3Nn"
      },
      "execution_count": null,
      "outputs": []
    },
    {
      "cell_type": "code",
      "source": [
        "training['name_title'].value_counts()"
      ],
      "metadata": {
        "collapsed": true,
        "id": "-UUel1tpv_5c"
      },
      "execution_count": null,
      "outputs": []
    },
    {
      "cell_type": "code",
      "source": [
        "alldata['cabin_multiple'] = alldata.Cabin.apply(lambda x: 0 if pd.isna(x) else len(x.split(' ')))\n",
        "alldata['cabin_adv'] = alldata.Cabin.apply(lambda x: str(x)[0])\n",
        "alldata['numeric_ticket'] = alldata.Ticket.apply(lambda x: 1 if x.isnumeric() else 0)\n",
        "alldata['ticket_letters'] = alldata.Ticket.apply(lambda x: ''.join(x.split(' ')[:-1]).replace('.','').replace('/','').lower() if len(x.split(' ')[:-1]) >0 else 0)\n",
        "alldata['name_title'] = alldata.Name.apply(lambda x: x.split(',')[1].split('.')[0].strip())"
      ],
      "metadata": {
        "id": "6-TMzMuK0DC0"
      },
      "execution_count": null,
      "outputs": []
    },
    {
      "cell_type": "code",
      "source": [
        "alldata['Age']"
      ],
      "metadata": {
        "id": "Vc_dUu7NZpN7"
      },
      "execution_count": null,
      "outputs": []
    },
    {
      "cell_type": "code",
      "source": [
        "alldata.Age = alldata.Age.fillna(alldata.Age.median())\n",
        "alldata.Fare = alldata.Fare.fillna(training.Fare.median())\n",
        "alldata['Age']\n"
      ],
      "metadata": {
        "collapsed": true,
        "id": "u_W23rPp02Mi"
      },
      "execution_count": null,
      "outputs": []
    },
    {
      "cell_type": "code",
      "source": [
        "alldata.columns\n"
      ],
      "metadata": {
        "collapsed": true,
        "id": "Y6MVOq774lqO"
      },
      "execution_count": null,
      "outputs": []
    },
    {
      "cell_type": "code",
      "source": [
        "training.columns"
      ],
      "metadata": {
        "collapsed": true,
        "id": "2TDpQIXg8maX"
      },
      "execution_count": null,
      "outputs": []
    },
    {
      "cell_type": "code",
      "source": [
        "test.columns"
      ],
      "metadata": {
        "collapsed": true,
        "id": "yx9OY-Sl80Jh"
      },
      "execution_count": null,
      "outputs": []
    },
    {
      "cell_type": "code",
      "source": [
        "alldata.tail(10)"
      ],
      "metadata": {
        "collapsed": true,
        "id": "HTmMbvCB810Q"
      },
      "execution_count": null,
      "outputs": []
    },
    {
      "cell_type": "code",
      "source": [
        "alldata.dropna(subset=['Embarked'],inplace = True)"
      ],
      "metadata": {
        "id": "PE7rNg0K9A9J"
      },
      "execution_count": null,
      "outputs": []
    },
    {
      "cell_type": "code",
      "source": [
        "alldata['norm_sibsp'] = np.log(alldata.SibSp+1)"
      ],
      "metadata": {
        "id": "CgsmFnCOBcfp"
      },
      "execution_count": null,
      "outputs": []
    },
    {
      "cell_type": "code",
      "source": [
        "alldata['norm_sibsp'].hist()"
      ],
      "metadata": {
        "collapsed": true,
        "id": "qMZvpCtJBzMP"
      },
      "execution_count": null,
      "outputs": []
    },
    {
      "cell_type": "code",
      "source": [
        "alldata['norm_fare'] = np.log(alldata.Fare+1)\n",
        "alldata['norm_fare'].hist()"
      ],
      "metadata": {
        "collapsed": true,
        "id": "Vq-pfXduB57F"
      },
      "execution_count": null,
      "outputs": []
    },
    {
      "cell_type": "code",
      "source": [
        "alldata.Pclass = alldata.Pclass.astype(str)\n",
        "alldata.info()"
      ],
      "metadata": {
        "collapsed": true,
        "id": "4GTYq7zEDNqY"
      },
      "execution_count": null,
      "outputs": []
    },
    {
      "cell_type": "code",
      "source": [
        "alldata.columns"
      ],
      "metadata": {
        "collapsed": true,
        "id": "bezO1WMZDPEB"
      },
      "execution_count": null,
      "outputs": []
    },
    {
      "cell_type": "code",
      "source": [
        "alldata.dtypes"
      ],
      "metadata": {
        "id": "V4cySOXjX_dU"
      },
      "execution_count": null,
      "outputs": []
    },
    {
      "cell_type": "code",
      "source": [
        "numerical_col = alldata.select_dtypes(include=['int64','float64']).columns.tolist()\n",
        "categorical_col = alldata.select_dtypes(include=['object']).columns.tolist()\n",
        "\n",
        "numerical_col\n"
      ],
      "metadata": {
        "id": "Q4oWOM-uX_ft"
      },
      "execution_count": null,
      "outputs": []
    },
    {
      "cell_type": "code",
      "source": [
        "all_dummies = pd.get_dummies(alldata[['Age','Pclass','Sex','SibSp','Parch','norm_fare','Embarked','cabin_adv','cabin_multiple','numeric_ticket','name_title','traintest']])"
      ],
      "metadata": {
        "id": "3uGe7bTgDlzh"
      },
      "execution_count": null,
      "outputs": []
    },
    {
      "cell_type": "code",
      "source": [
        "all_dummies.shape"
      ],
      "metadata": {
        "collapsed": true,
        "id": "Quhu_HEHDpkU"
      },
      "execution_count": null,
      "outputs": []
    },
    {
      "cell_type": "code",
      "source": [
        "all_dummies.columns\n"
      ],
      "metadata": {
        "collapsed": true,
        "id": "82EeTRpsCa5t"
      },
      "execution_count": null,
      "outputs": []
    },
    {
      "cell_type": "code",
      "source": [
        "all_dummies.traintest"
      ],
      "metadata": {
        "collapsed": true,
        "id": "yng04XZXG3cW"
      },
      "execution_count": null,
      "outputs": []
    },
    {
      "cell_type": "code",
      "source": [
        "xtrain = all_dummies[all_dummies.traintest == 1].drop(['traintest'], axis =1)\n",
        "xtest = all_dummies[all_dummies.traintest == 0].drop(['traintest'], axis =1)"
      ],
      "metadata": {
        "id": "A2abLhxdDBmc"
      },
      "execution_count": null,
      "outputs": []
    },
    {
      "cell_type": "code",
      "source": [
        "ytrain = alldata[alldata.traintest==1].Survived"
      ],
      "metadata": {
        "id": "tWT4WrzJHH4f"
      },
      "execution_count": null,
      "outputs": []
    },
    {
      "cell_type": "code",
      "source": [
        "ytrain.shape"
      ],
      "metadata": {
        "collapsed": true,
        "id": "p-tn2fsCIWNV"
      },
      "execution_count": null,
      "outputs": []
    },
    {
      "cell_type": "code",
      "source": [
        "all_dummies.columns"
      ],
      "metadata": {
        "id": "nKK-B2CoWY0N"
      },
      "execution_count": null,
      "outputs": []
    },
    {
      "cell_type": "code",
      "source": [
        "from sklearn.preprocessing import StandardScaler\n",
        "scale = StandardScaler()\n",
        "all_dummies_scaled = all_dummies.copy()\n",
        "all_dummies_scaled[['Age','SibSp','Parch','norm_fare']]= scale.fit_transform(all_dummies_scaled[['Age','SibSp','Parch','norm_fare']])\n",
        "all_dummies_scaled\n",
        "\n",
        "X_train_scaled = all_dummies_scaled[all_dummies_scaled.traintest == 1].drop(['traintest'], axis =1)\n",
        "X_test_scaled = all_dummies_scaled[all_dummies_scaled.traintest == 0].drop(['traintest'], axis =1)\n",
        "\n",
        "y_train = alldata[alldata.traintest==1].Survived"
      ],
      "metadata": {
        "id": "T8gdPuQJPbZb"
      },
      "execution_count": null,
      "outputs": []
    },
    {
      "cell_type": "code",
      "source": [
        "all_dummies_scaled.columns"
      ],
      "metadata": {
        "id": "5qsfiF7Mdaqq"
      },
      "execution_count": null,
      "outputs": []
    },
    {
      "cell_type": "code",
      "source": [
        "from sklearn.model_selection import cross_val_score\n",
        "from sklearn.naive_bayes import GaussianNB\n",
        "from sklearn.linear_model import LogisticRegression\n",
        "from sklearn import tree\n",
        "from sklearn.neighbors import KNeighborsClassifier\n",
        "from sklearn.ensemble import RandomForestClassifier\n",
        "from sklearn.svm import SVC\n",
        "from xgboost import XGBClassifier"
      ],
      "metadata": {
        "id": "LBx4-SYydsOR"
      },
      "execution_count": null,
      "outputs": []
    },
    {
      "cell_type": "code",
      "source": [
        "gnb = GaussianNB()\n",
        "cv = cross_val_score(gnb,X_train_scaled,y_train,cv=10)\n",
        "print(cv)\n",
        "print(cv.mean())"
      ],
      "metadata": {
        "id": "lUF3snY22OeD"
      },
      "execution_count": null,
      "outputs": []
    },
    {
      "cell_type": "code",
      "source": [
        "lr = LogisticRegression(max_iter = 5000)\n",
        "cv = cross_val_score(lr,X_train_scaled,y_train,cv=5)\n",
        "print(cv)\n",
        "print(cv.mean())"
      ],
      "metadata": {
        "id": "PJooPv5G4vw1"
      },
      "execution_count": null,
      "outputs": []
    },
    {
      "cell_type": "code",
      "source": [
        "dt = tree.DecisionTreeClassifier(random_state=1)\n",
        "cv = cross_val_score(dt,X_train_scaled,y_train,cv=5)\n",
        "print(cv)\n",
        "print(cv.mean())"
      ],
      "metadata": {
        "id": "QtogNh016Od0"
      },
      "execution_count": null,
      "outputs": []
    },
    {
      "cell_type": "code",
      "source": [
        "knn = KNeighborsClassifier()\n",
        "cv = cross_val_score(knn,X_train_scaled,y_train,cv=5)\n",
        "print(cv)\n",
        "print(cv.mean())"
      ],
      "metadata": {
        "id": "2mdicMoH7U2p"
      },
      "execution_count": null,
      "outputs": []
    },
    {
      "cell_type": "code",
      "source": [
        "svc = SVC(probability = True)\n",
        "cv = cross_val_score(svc,X_train_scaled,y_train,cv=5)\n",
        "print(cv)\n",
        "print(cv.mean())"
      ],
      "metadata": {
        "id": "5p3FeZQJ8TJB"
      },
      "execution_count": null,
      "outputs": []
    },
    {
      "cell_type": "code",
      "source": [
        "rf = RandomForestClassifier(random_state = 1)\n",
        "cv = cross_val_score(rf,X_train_scaled,y_train,cv=5)\n",
        "print(cv)\n",
        "print(cv.mean())"
      ],
      "metadata": {
        "id": "2wcLxryI8IIU"
      },
      "execution_count": null,
      "outputs": []
    },
    {
      "cell_type": "code",
      "source": [
        "xgb = XGBClassifier(random_state =1)\n",
        "cv = cross_val_score(xgb,X_train_scaled,y_train,cv=5)\n",
        "print(cv)\n",
        "print(cv.mean())"
      ],
      "metadata": {
        "id": "V2J8dfNY8Zb8"
      },
      "execution_count": null,
      "outputs": []
    },
    {
      "cell_type": "code",
      "source": [
        "# from sklearn.ensemble import VotingClassifier\n",
        "# voting_clf = VotingClassifier(estimators = [('lr',lr),('knn',knn),('rf',rf),('gnb',gnb),('svc',svc),('xgb',xgb)], voting = 'soft')"
      ],
      "metadata": {
        "id": "AegRBS3l-Trh"
      },
      "execution_count": null,
      "outputs": []
    },
    {
      "cell_type": "code",
      "source": [
        "from sklearn.ensemble import VotingClassifier\n",
        "voting_clf = VotingClassifier(estimators = [('lr',lr),('knn',knn),('rf',rf),('gnb',gnb),('svc',svc),('xgb',xgb)], voting = 'hard')"
      ],
      "metadata": {
        "id": "MjQwezaCOcY-"
      },
      "execution_count": null,
      "outputs": []
    },
    {
      "cell_type": "code",
      "source": [
        "# cv = cross_val_score(voting_clf_s, X_train_scaled, y_train, cv=5)\n",
        "# print(cv)\n",
        "# print(cv.mean())"
      ],
      "metadata": {
        "id": "7HaEooEh-YCQ"
      },
      "execution_count": null,
      "outputs": []
    },
    {
      "cell_type": "code",
      "source": [
        "cv = cross_val_score(voting_clf, X_train_scaled, y_train, cv=5)\n",
        "print(cv)\n",
        "print(cv.mean())"
      ],
      "metadata": {
        "id": "y91vLLTAOk9K"
      },
      "execution_count": null,
      "outputs": []
    },
    {
      "cell_type": "code",
      "source": [
        "voting_clf.fit(X_train_scaled,y_train)\n",
        "y_hat_base_vc = voting_clf.predict(X_test_scaled).astype(int)\n",
        "basic_submission = {'PassengerId': test.PassengerId, 'Survived': y_hat_base_vc}\n",
        "base_submission = pd.DataFrame(data=basic_submission)\n",
        "base_submission.to_csv('base_submission.csv', index=False)"
      ],
      "metadata": {
        "id": "7y5Lx6XRQ0d7"
      },
      "execution_count": null,
      "outputs": []
    }
  ]
}
